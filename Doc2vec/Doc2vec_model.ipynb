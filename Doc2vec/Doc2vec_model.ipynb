{
 "cells": [
  {
   "cell_type": "markdown",
   "metadata": {},
   "source": [
    "# Evolving vector-space model\n",
    "\n",
    "This lab will be devoted to the use of `doc2vec` model for the needs of information retrieval and text classification.  \n",
    "\n",
    "## 1. Searching in the curious facts database\n",
    "The facts dataset is given [here](https://github.com/hsu-ai-course/hsu.ai/blob/master/code/datasets/nlp/facts.txt), take a look.  We want you to retrieve facts relevant to the query, for example, you type \"good mood\", and get to know that Cherophobia is the fear of fun. For this, the idea is to utilize document vectors. However, instead of forming vectors with tf-idf and reducing dimensions, this time we want to obtain fixed-size vectors for documents using `doc2vec` model.\n",
    "\n",
    "### 1.1 Loading trained `doc2vec` model\n",
    "\n",
    "First, let's load the pre-trained `doc2vec` model from https://github.com/jhlau/doc2vec (Associated Press News DBOW (0.6GB))"
   ]
  },
  {
   "cell_type": "code",
   "execution_count": 1,
   "metadata": {},
   "outputs": [
    {
     "name": "stdout",
     "output_type": "stream",
     "text": [
      "Requirement already satisfied: gensim in /home/sabzirov/miniconda/lib/python3.7/site-packages (3.8.1)\n",
      "Requirement already satisfied: smart-open>=1.8.1 in /home/sabzirov/miniconda/lib/python3.7/site-packages (from gensim) (1.9.0)\n",
      "Requirement already satisfied: scipy>=0.18.1 in /home/sabzirov/miniconda/lib/python3.7/site-packages (from gensim) (1.3.1)\n",
      "Requirement already satisfied: numpy>=1.11.3 in /home/sabzirov/miniconda/lib/python3.7/site-packages (from gensim) (1.17.3)\n",
      "Requirement already satisfied: six>=1.5.0 in /home/sabzirov/miniconda/lib/python3.7/site-packages (from gensim) (1.14.0)\n",
      "Requirement already satisfied: boto3 in /home/sabzirov/miniconda/lib/python3.7/site-packages (from smart-open>=1.8.1->gensim) (1.10.28)\n",
      "Requirement already satisfied: boto>=2.32 in /home/sabzirov/miniconda/lib/python3.7/site-packages (from smart-open>=1.8.1->gensim) (2.49.0)\n",
      "Requirement already satisfied: requests in /home/sabzirov/miniconda/lib/python3.7/site-packages (from smart-open>=1.8.1->gensim) (2.19.1)\n",
      "Requirement already satisfied: s3transfer<0.3.0,>=0.2.0 in /home/sabzirov/miniconda/lib/python3.7/site-packages (from boto3->smart-open>=1.8.1->gensim) (0.2.1)\n",
      "Requirement already satisfied: botocore<1.14.0,>=1.13.28 in /home/sabzirov/miniconda/lib/python3.7/site-packages (from boto3->smart-open>=1.8.1->gensim) (1.13.28)\n",
      "Requirement already satisfied: jmespath<1.0.0,>=0.7.1 in /home/sabzirov/miniconda/lib/python3.7/site-packages (from boto3->smart-open>=1.8.1->gensim) (0.9.4)\n",
      "Requirement already satisfied: idna<2.8,>=2.5 in /home/sabzirov/miniconda/lib/python3.7/site-packages (from requests->smart-open>=1.8.1->gensim) (2.7)\n",
      "Requirement already satisfied: chardet<3.1.0,>=3.0.2 in /home/sabzirov/miniconda/lib/python3.7/site-packages (from requests->smart-open>=1.8.1->gensim) (3.0.4)\n",
      "Requirement already satisfied: urllib3<1.24,>=1.21.1 in /home/sabzirov/miniconda/lib/python3.7/site-packages (from requests->smart-open>=1.8.1->gensim) (1.23)\n",
      "Requirement already satisfied: certifi>=2017.4.17 in /home/sabzirov/miniconda/lib/python3.7/site-packages (from requests->smart-open>=1.8.1->gensim) (2019.11.28)\n",
      "Requirement already satisfied: python-dateutil<2.8.1,>=2.1; python_version >= \"2.7\" in /home/sabzirov/miniconda/lib/python3.7/site-packages (from botocore<1.14.0,>=1.13.28->boto3->smart-open>=1.8.1->gensim) (2.8.0)\n",
      "Requirement already satisfied: docutils<0.16,>=0.10 in /home/sabzirov/miniconda/lib/python3.7/site-packages (from botocore<1.14.0,>=1.13.28->boto3->smart-open>=1.8.1->gensim) (0.15.2)\n"
     ]
    }
   ],
   "source": [
    "!pip install gensim"
   ]
  },
  {
   "cell_type": "code",
   "execution_count": 2,
   "metadata": {},
   "outputs": [
    {
     "name": "stdout",
     "output_type": "stream",
     "text": [
      "<class 'gensim.models.doc2vec.Doc2Vec'>\n",
      "<class 'numpy.ndarray'>\n",
      "(300,)\n"
     ]
    }
   ],
   "source": [
    "from gensim.models.doc2vec import Doc2Vec\n",
    "\n",
    "# unpack a model into 3 files and target the main one\n",
    "# doc2vec.bin  <---------- this\n",
    "# doc2vec.bin.syn0.npy\n",
    "# doc2vec.bin.sin1neg.npy\n",
    "model = Doc2Vec.load('apnews_dbow/doc2vec.bin', mmap=None)\n",
    "print(type(model))\n",
    "print(type(model.infer_vector([\"to\", \"be\", \"or\", \"not\"])))\n",
    "print(model.infer_vector([\"to\", \"be\", \"or\", \"not\"]).shape)"
   ]
  },
  {
   "cell_type": "markdown",
   "metadata": {},
   "source": [
    "### 1.2 Reading data\n",
    "\n",
    "Now, let's read the facts dataset. Download it from the abovementioned url and read to the list of sentences."
   ]
  },
  {
   "cell_type": "code",
   "execution_count": 3,
   "metadata": {
    "scrolled": true
   },
   "outputs": [
    {
     "data": {
      "text/plain": [
       "['1. If you somehow found a way to extract all of the gold from the bubbling core of our lovely little planet, you would be able to cover all of the land in a layer of gold up to your knees.',\n",
       " '2. McDonalds calls frequent buyers of their food heavy users.',\n",
       " '3. The average person spends 6 months of their lifetime waiting on a red light to turn green.',\n",
       " '4. The largest recorded snowflake was in Keogh, MT during year 1887, and was 15 inches wide.',\n",
       " '5. You burn more calories sleeping than you do watching television.']"
      ]
     },
     "execution_count": 3,
     "metadata": {},
     "output_type": "execute_result"
    }
   ],
   "source": [
    "#TODO read facts into list\n",
    "import requests\n",
    "\n",
    "\n",
    "file_link = 'https://raw.githubusercontent.com/hsu-ai-course/hsu.ai/master/code/datasets/nlp/facts.txt'\n",
    "content = requests.get(file_link).content.decode('utf-8', errors='ignore')\n",
    "remove_enumeration = False\n",
    "if remove_enumeration:\n",
    "    facts = [x[x.find(' ') + 1:] for x in content.splitlines()]\n",
    "else:\n",
    "    facts = [x for x in content.splitlines()]\n",
    "facts[:5]"
   ]
  },
  {
   "cell_type": "markdown",
   "metadata": {},
   "source": [
    "### 1.3 Tests"
   ]
  },
  {
   "cell_type": "code",
   "execution_count": 4,
   "metadata": {},
   "outputs": [
    {
     "name": "stdout",
     "output_type": "stream",
     "text": [
      "1. If you somehow found a way to extract all of the gold from the bubbling core of our lovely little planet, you would be able to cover all of the land in a layer of gold up to your knees.\n",
      "2. McDonalds calls frequent buyers of their food heavy users.\n",
      "3. The average person spends 6 months of their lifetime waiting on a red light to turn green.\n",
      "4. The largest recorded snowflake was in Keogh, MT during year 1887, and was 15 inches wide.\n",
      "5. You burn more calories sleeping than you do watching television.\n"
     ]
    }
   ],
   "source": [
    "print(*facts[:5], sep='\\n')\n",
    "\n",
    "assert len(facts) == 159\n",
    "assert ('our lovely little planet') in facts[0]"
   ]
  },
  {
   "cell_type": "markdown",
   "metadata": {},
   "source": [
    "### 1.4  Transforming sentences to vectors\n",
    "\n",
    "Transform the list of facts to numpy array of vectors corresponding to each document (`sent_vecs`), inferring them from the model we just loaded."
   ]
  },
  {
   "cell_type": "code",
   "execution_count": 5,
   "metadata": {},
   "outputs": [],
   "source": [
    "#TODO infer vectors\n",
    "import numpy as np\n",
    "\n",
    "sent_vecs = np.array([model.infer_vector(sent.split()) for sent in facts])"
   ]
  },
  {
   "cell_type": "markdown",
   "metadata": {},
   "source": [
    "### 1.5 Tests "
   ]
  },
  {
   "cell_type": "code",
   "execution_count": 6,
   "metadata": {
    "scrolled": true
   },
   "outputs": [
    {
     "name": "stdout",
     "output_type": "stream",
     "text": [
      "(159, 300)\n"
     ]
    }
   ],
   "source": [
    "print(sent_vecs.shape)\n",
    "assert sent_vecs.shape == (159, 300)"
   ]
  },
  {
   "cell_type": "markdown",
   "metadata": {},
   "source": [
    "### 1.6 Find closest\n",
    "\n",
    "Now, reusing the code from the last lab, find facts which are closest to the query using cosine similarity measure."
   ]
  },
  {
   "cell_type": "code",
   "execution_count": 7,
   "metadata": {},
   "outputs": [
    {
     "name": "stdout",
     "output_type": "stream",
     "text": [
      "Results for query: good mood\n",
      "\t 144. Dolphins sleep with one eye open! sim= 0.65879935\n",
      "\t 57. Gorillas burp when they are happy sim= 0.59512585\n",
      "\t 111. Butterflies taste their food with their feet. sim= 0.5932894\n",
      "\t 141. Months that begin on a Sunday will always have a Friday the 13th. sim= 0.5911027\n",
      "\t 98. Blue-eyed people tend to have the highest tolerance of alcohol. sim= 0.57972896\n"
     ]
    }
   ],
   "source": [
    "#TODO output closest facts to the query\n",
    "def cosine_similarity(v, u):\n",
    "    return np.sum(np.multiply(v, u)) / np.linalg.norm(v) / np.linalg.norm(u)\n",
    "\n",
    "def find_k_closest(query, dataset, k=5):    \n",
    "    query_vec = model.infer_vector(query.split())\n",
    "    similarities = [(i, sent_vec, cosine_similarity(query_vec, sent_vec)) for i, sent_vec in enumerate(dataset)]\n",
    "    similarities.sort(key = lambda x: x[-1], reverse=True)\n",
    "    return similarities[:k]\n",
    "    \n",
    "\n",
    "query = \"good mood\"\n",
    "print(\"Results for query:\", query)\n",
    "r = find_k_closest(query, sent_vecs, 5)\n",
    "for k, v, p in r:\n",
    "    print(\"\\t\", facts[k], \"sim=\", p)"
   ]
  },
  {
   "cell_type": "markdown",
   "metadata": {},
   "source": [
    "## 2. Training doc2vec model and documents classifier\n",
    "\n",
    "Now we would like you to train doc2vec model yourself based on [this topic-modeling dataset](https://code.google.com/archive/p/topic-modeling-tool/downloads).\n",
    "\n",
    "### 2.1 Read dataset\n",
    "\n",
    "First, read the dataset - it consists of 4 parts, you need to merge them into single list. "
   ]
  },
  {
   "cell_type": "code",
   "execution_count": 3,
   "metadata": {},
   "outputs": [],
   "source": [
    "import os\n",
    "\n",
    "all_data = []\n",
    "labels = []\n",
    "\n",
    "folder_name = 'topic-modeling-tool'\n",
    "topics = ('braininjury', 'news_economy', 'news_fuel', 'news_music')\n",
    "for topic in topics:\n",
    "    file_name = f'testdata_{topic}.txt'\n",
    "    file = open(f'{folder_name}/{file_name}', 'r')\n",
    "    new_data = file.readlines()\n",
    "    all_data += new_data\n",
    "    labels += [topic] * len(new_data)"
   ]
  },
  {
   "cell_type": "markdown",
   "metadata": {},
   "source": [
    "### 2.2 Tests "
   ]
  },
  {
   "cell_type": "code",
   "execution_count": 4,
   "metadata": {},
   "outputs": [
    {
     "name": "stdout",
     "output_type": "stream",
     "text": [
      "15002\n"
     ]
    }
   ],
   "source": [
    "print(len(all_data))\n",
    "assert len(all_data) == 15002"
   ]
  },
  {
   "cell_type": "markdown",
   "metadata": {},
   "source": [
    "### 2.3 Training `doc2vec` model\n",
    "\n",
    "Train a `doc2vec` model based on the dataset you've loaded. The example of training is provided."
   ]
  },
  {
   "cell_type": "code",
   "execution_count": 5,
   "metadata": {
    "scrolled": true
   },
   "outputs": [
    {
     "name": "stdout",
     "output_type": "stream",
     "text": [
      "[TaggedDocument(words='therapeutic potential melatonin traumatic central nervous system injury vast literature extolling the benefits melatonin has accumulated during the past four decades melatonin was previously considered importance seasonal reproduction and circadian rhythmicity currently appears versatile anti oxidative and anti nitrosative agent molecule with immunomodulatory actions and profound oncostatic activity and also play role potent neuroprotectant nowadays melatonin sold dietary supplement with differential availability over the counter aid different countries there widespread agreement that melatonin nontoxic and safe considering its frequent long term usage humans both physiological and pharmacological doses with reported side effects endeavors toward designated drug status for melatonin may enormously rewarding clinics for treatment several forms neurotrauma where effective pharmacological intervention has not yet been attained this mini review consolidates the data regarding the efficacy melatonin unique neuroprotective agent traumatic central nervous system cns injuries well documented actions melatonin combating traumatic cns damage are compiled from various clinical and experimental studies research traumatic brain injury and ischemia reperfusion are briefly outlined here they have been recently reviewed elsewhere whereas the studies different animal models the experimental spinal cord injury have been extensively covered this mini review for the first time \\n', tags='braininjury'), TaggedDocument(words='epidemiology traumatic and spontaneous subconjunctival haemorrhages congo purpose determine frequency and associated conditions subconjunctival haemorrhage methods descriptive and cross sectional study all consecutive patients with traumatic and spontaneous subconjunctival haemorrhage sch examined between and general practice ophthalmology results there were patients with sch eyes among consulting patients they consisted women and men with mean age years among the patients with sch had traumatic sch and had spontaneous sch both populations patients females outnumbered males the mean age was and years for patients with spontaneous and traumatic sch respectively patients with spontaneous sch presented earlier days and complained red eye greater extent than patients with traumatic sch there were statistically significant differences between the patients with spontaneous and traumatic sch with respect gender eye involvement location sch and occupation patients the condition was unilateral eyes location sch was most found temporal nasal spontaneous sch apparent associated condition was found hypertension was the most frequent associated condition other associated conditions were rare and included vomiting sneezing malaria hypoglycaemia sickle cell disease and delivery traumatic sch injuries occurred home conclusion schs were seen patients and occurred more frequently women than men this study \\n', tags='braininjury'), TaggedDocument(words='combat veterans mental health issues and the death penalty addressing the impact post traumatic stress disorder and traumatic brain injury more than million americans have participated combat operations iraq and afghanistan over the past seven years some these veterans have subsequently committed capital crimes and found themselves our nation criminal justice system this essay argues that combat veterans suffering from post traumatic stress disorder traumatic brain injury the time their offenses should not subject the death penalty offering mitigating evidence regarding military training post traumatic stress disorder and traumatic brain injury presents one means that combat veterans may use argue for their lives during the sentencing phase their trials alternatively atkins virginia and roper simmons offer framework for establishing legislatively judicially created categorical exclusion for these offenders exempting them from the death penalty matter law understanding how combat service and service related injuries affect the personal culpability these offenders the legal system can avoid the consequences sentencing death america mentally wounded warriors ensuring that only the worst offenders are subject the ultimate punishment \\n', tags='braininjury')] \n",
      "\n",
      "vec [ 9.25246393e-04  1.50403031e-03 -4.34038520e-04 -1.28561136e-04\n",
      "  4.79367591e-04 -1.22110744e-03  9.54286428e-04  1.62176986e-03\n",
      "  4.29357722e-04  1.10893196e-03  8.18197499e-04  1.15490519e-03\n",
      " -2.93734716e-04  5.29187382e-04  1.39440398e-03 -1.21323904e-03\n",
      "  3.54434393e-04 -2.03284162e-05  1.55331718e-03  1.58163381e-03\n",
      " -1.23698113e-03  1.13965431e-03  1.14313315e-03 -3.20155115e-04\n",
      "  6.35237026e-04 -2.92137353e-04 -1.35702081e-03  1.05999154e-03\n",
      " -1.35067850e-03 -1.95426910e-04  7.31291293e-05 -8.25510069e-04\n",
      " -6.81164558e-04 -1.39521901e-03 -7.83070922e-04 -3.89060035e-04\n",
      "  4.95104003e-04 -2.60981382e-04 -4.84965421e-04  7.11759960e-04\n",
      " -1.08774309e-03 -3.29043309e-04  5.44386916e-04 -1.64190959e-03\n",
      " -5.55289211e-04  1.48091721e-03 -1.40508346e-03 -6.88562568e-06\n",
      " -2.49463865e-05 -1.02769164e-03 -8.74428311e-04  1.57135935e-03\n",
      "  9.52839560e-04  1.58052531e-03 -1.56366045e-03  1.41578878e-03\n",
      "  1.22940168e-03  5.40397523e-05 -1.04316836e-03  6.07226975e-04\n",
      " -1.72007727e-04  4.93770385e-05  6.69923087e-04  6.43495878e-04\n",
      " -1.05021452e-03 -7.20499083e-04 -1.45865357e-04  1.37854100e-03\n",
      "  1.23132800e-03  1.09086197e-03  8.89109157e-04 -8.45986826e-04\n",
      " -1.21461460e-03  5.56250510e-04 -8.73365672e-04 -1.39973650e-03\n",
      "  6.39523496e-04 -1.62617199e-03 -1.07567241e-04  1.44959346e-03\n",
      "  8.16300570e-04  5.68097457e-04  1.59776339e-03 -1.63041172e-03\n",
      " -1.58904935e-03  2.83057161e-04 -1.03336608e-03  1.47130759e-03\n",
      " -8.77478509e-04  4.73371125e-04 -1.08624750e-03 -1.19886233e-03\n",
      " -1.09521311e-03 -6.32679381e-04 -1.23195653e-03  9.83445425e-05\n",
      "  1.34612070e-04 -5.51469915e-04  6.42003550e-04  1.65147081e-04\n",
      "  7.89794780e-04  7.81356532e-04  6.45660271e-04 -9.54461924e-04\n",
      "  1.34455913e-03 -2.75790779e-04  3.47054680e-04 -1.66129845e-03\n",
      " -6.05283363e-04  1.62789412e-03  6.49073103e-04  1.08983612e-03\n",
      "  1.22430583e-03  1.54533936e-03  1.42387638e-03  6.20834820e-04\n",
      " -1.08369277e-03  3.70337773e-04 -1.12706155e-03  8.23320355e-04\n",
      " -4.73423046e-04 -1.23590126e-03 -9.64500767e-04 -8.51021905e-04\n",
      " -5.68808347e-04 -1.27268920e-03 -1.29056003e-04  1.09357107e-03\n",
      "  1.04350632e-03  1.16307207e-03  1.13125588e-03 -1.62753125e-03\n",
      "  5.60819055e-04  9.88114160e-04  1.54711073e-04 -4.64672339e-04\n",
      " -1.11263373e-03  6.68959576e-04  1.55772874e-03 -1.12383623e-05\n",
      "  4.97686153e-04  4.11950896e-04  3.07557551e-04  3.94845090e-04\n",
      " -8.56913277e-04  9.86590399e-04 -6.45695021e-04  4.13717120e-04\n",
      "  1.44075218e-03  1.30787387e-03 -3.00550193e-04  1.24858005e-03\n",
      "  1.43641932e-03  1.11743524e-04  1.55311916e-03  1.59188372e-03\n",
      "  5.58875385e-04 -1.51391505e-04 -1.20956567e-03  1.56398595e-03\n",
      "  1.17530546e-03  8.15382169e-04 -1.28726452e-03 -1.10174681e-03\n",
      " -1.72595086e-04  2.92577693e-04 -1.07677828e-04  1.19013921e-03\n",
      " -7.04671265e-06 -1.34788197e-03  1.52908755e-03  1.13982846e-04\n",
      " -4.03864775e-04  3.28638591e-04  4.87049751e-04  8.14445491e-04\n",
      " -8.66802351e-04 -2.82585446e-04 -2.47341784e-04 -7.80404298e-05\n",
      "  1.18306617e-03 -1.62684673e-03  1.62686827e-03 -1.53860345e-03\n",
      "  5.48817625e-04  6.33612624e-04 -6.55193347e-04 -7.76858360e-04\n",
      "  1.33109791e-03 -1.41108048e-03  2.59014021e-04 -7.49580562e-04\n",
      "  2.46529144e-05 -6.17259066e-04 -1.23236692e-04 -9.02167812e-04\n",
      " -1.50644570e-03 -1.46258075e-03 -1.62050687e-03 -1.70271145e-04\n",
      " -1.12375116e-03  1.32944854e-03  3.86759275e-05 -1.30915118e-03\n",
      " -4.96098073e-04  2.45353876e-05  5.40640205e-04  5.57317224e-04\n",
      "  1.25725742e-03 -1.07957830e-03 -1.18089875e-03  1.59415742e-03\n",
      " -3.64234642e-04 -6.29456248e-04 -1.61345478e-03  4.74668748e-04\n",
      " -1.39936642e-03  1.53777725e-03 -4.14512266e-04  8.25619383e-04\n",
      "  8.41433794e-05 -3.27727554e-04 -1.56439550e-03  2.12583705e-04\n",
      " -1.57997617e-03  1.04754418e-03  1.07257534e-03 -1.63027190e-03\n",
      " -4.54509340e-04 -1.45541714e-03 -4.45261627e-04 -1.27771532e-03\n",
      "  2.82538094e-04  5.55071107e-04  1.44807436e-03  1.33913360e-03\n",
      " -3.07261711e-04  6.18134043e-04 -7.86500284e-04  1.30253611e-03\n",
      "  4.78106289e-04  1.33565860e-03 -2.55261199e-04 -7.42684875e-04\n",
      "  7.39897543e-04 -7.38111674e-04  1.64068432e-03  4.74867265e-04\n",
      " -1.30885735e-03  1.32901804e-03  9.17137149e-05 -3.57534213e-04\n",
      "  2.23980111e-04  8.74907011e-04 -5.37169632e-04  2.92774319e-04\n",
      "  2.38389985e-04 -1.05434901e-03  8.71173339e-04 -6.07011956e-04\n",
      "  3.33835022e-04 -1.03051565e-03  1.33339397e-03  6.86382002e-04\n",
      "  5.41825011e-06  5.85374364e-04  3.16952246e-05  1.22768211e-03\n",
      "  4.21690202e-04  1.61884891e-04  1.50987413e-03  1.57799479e-03\n",
      "  6.20314968e-05  1.52584835e-04 -1.17692153e-03  9.88571672e-04\n",
      " -5.01798640e-04 -9.75060044e-04  6.51438429e-04  1.64882059e-03\n",
      "  1.24891102e-03  4.06027801e-04 -5.96890633e-04  1.40512199e-03\n",
      " -2.20507660e-04  6.45196565e-07  6.42602972e-04  1.29595224e-03\n",
      " -7.78624031e-04  1.07984280e-03 -1.70354469e-04  8.57532839e-04\n",
      "  4.75394365e-04 -1.21487275e-04  7.90776336e-04 -8.34820908e-04\n",
      "  1.07454683e-03 -1.47133600e-03  1.61537719e-05  7.89683603e-04]\n"
     ]
    }
   ],
   "source": [
    "#TODO change this according to the task\n",
    "# small set of tokenized sentences\n",
    "from gensim.test.utils import common_texts\n",
    "from gensim.models.doc2vec import Doc2Vec, TaggedDocument\n",
    "# just a test set of tokenized sentences\n",
    "# print(common_texts, \"\\n\")\n",
    "documents = [TaggedDocument(doc, labels[i]) for i, doc in enumerate(all_data)]\n",
    "print(documents[:3], \"\\n\")\n",
    "# train a model\n",
    "model = Doc2Vec(\n",
    "    documents,       # collection of texts\n",
    "    vector_size=300, # output vector size\n",
    "    window=3,        # maximum distance between the target word and its neighboring word\n",
    "    min_count=1,     # minimal number of word occurences\n",
    "    workers=4        # in parallel\n",
    ")\n",
    "\n",
    "# clean training data\n",
    "model.delete_temporary_training_data(keep_doctags_vectors=True, keep_inference=True)\n",
    "\n",
    "# save and load\n",
    "model.save(\"d2v.model\")\n",
    "model = Doc2Vec.load(\"d2v.model\")\n",
    "\n",
    "vec = model.infer_vector([\"system\", \"response\"])\n",
    "print(\"vec\", vec)"
   ]
  },
  {
   "cell_type": "markdown",
   "metadata": {},
   "source": [
    "### 2.4 Form train and test datasets\n",
    "\n",
    "Transform documents to vectors and split data to train and test sets. Make sure that the split is stratified as the classes are imbalanced."
   ]
  },
  {
   "cell_type": "code",
   "execution_count": 7,
   "metadata": {},
   "outputs": [
    {
     "name": "stdout",
     "output_type": "stream",
     "text": [
      "TRAIN: [11637 14072  4979 ...   961 14500  3722] TEST: [14756   741  4478 ... 13653 13810  3150]\n",
      "TRAIN: [13703  8833 11371 ...  5566  8838   548] TEST: [12392  1750 10911 ... 14004  4610 12075]\n",
      "TRAIN: [ 5734  4740  7820 ...  4639  4215 10098] TEST: [ 2015 13533  6233 ...  8508  4034 12793]\n",
      "TRAIN: [ 3825   809  8266 ... 13837 12009  7566] TEST: [ 4026  2916  5231 ...  3662 11805  5637]\n",
      "TRAIN: [ 4317  7822  7088 ... 12018 12444 12038] TEST: [ 5137 11512 13015 ...  4391  4297 12876]\n",
      "TRAIN: [ 2215 10455 14081 ... 14419  7525 13740] TEST: [ 2126 13578 13801 ...  3152 13562  3724]\n",
      "TRAIN: [12156  8427  4261 ... 14601  1654 13186] TEST: [14294 14980  1230 ... 11616  3477  4651]\n",
      "TRAIN: [14158   597 12449 ...  2518  9267   692] TEST: [14737  7387 13971 ...  3639 14664  4913]\n",
      "TRAIN: [11305  2057 14941 ... 14697 11361  9871] TEST: [ 6466 13369 10790 ... 12631 12693  9525]\n",
      "TRAIN: [ 9095 11313  5437 ... 10369  6518 10748] TEST: [11583   441  6028 ... 10072  8018 13929]\n",
      "13501 13501\n",
      "1501 1501\n"
     ]
    }
   ],
   "source": [
    "#TODO transforn and make a train-test split\n",
    "import numpy as np\n",
    "from sklearn.model_selection import StratifiedShuffleSplit\n",
    "\n",
    "splitter = StratifiedShuffleSplit(random_state = 5)\n",
    "X = np.array([model.infer_vector(doc.split()) for doc in all_data])\n",
    "y = np.array(labels)\n",
    "\n",
    "for train_index, test_index in splitter.split(X, y):\n",
    "    print(\"TRAIN:\", train_index, \"TEST:\", test_index)\n",
    "    X_train, X_test = X[train_index], X[test_index]\n",
    "    y_train, y_test = y[train_index], y[test_index]\n",
    "\n",
    "print(len(X_train), len(y_train))\n",
    "print(len(X_test), len(y_test))"
   ]
  },
  {
   "cell_type": "markdown",
   "metadata": {},
   "source": [
    "### 2.5 Train topics classifier\n",
    "\n",
    "Train a classifier that would classify any document to one of four categories: fuel, brain injury, music, and economy.\n",
    "Print a classification report for test data."
   ]
  },
  {
   "cell_type": "code",
   "execution_count": 8,
   "metadata": {},
   "outputs": [
    {
     "name": "stdout",
     "output_type": "stream",
     "text": [
      "Feature importance: 0.006054903891286592\n",
      "              precision    recall  f1-score   support\n",
      "\n",
      " braininjury       0.69      1.00      0.82      1001\n",
      "news_economy       0.50      0.06      0.10       207\n",
      "   news_fuel       0.62      0.06      0.11        85\n",
      "  news_music       0.78      0.10      0.18       208\n",
      "\n",
      "    accuracy                           0.69      1501\n",
      "   macro avg       0.65      0.30      0.30      1501\n",
      "weighted avg       0.68      0.69      0.59      1501\n",
      "\n"
     ]
    }
   ],
   "source": [
    "#TODO train a classifier and measure its performance\n",
    "from sklearn.ensemble import RandomForestClassifier\n",
    "rfc = RandomForestClassifier(n_estimators=20, max_depth=20)\n",
    "rfc.fit(X_train, y_train)\n",
    "print('Feature importance:', max(rfc.feature_importances_))\n",
    "y_pred = rfc.predict(X_test)\n",
    "\n",
    "\n",
    "from sklearn.metrics import classification_report\n",
    "print(classification_report(y_test, y_pred))"
   ]
  },
  {
   "cell_type": "code",
   "execution_count": 17,
   "metadata": {},
   "outputs": [
    {
     "data": {
      "text/plain": [
       "Text(0.5,1,'Confusion matrix')"
      ]
     },
     "execution_count": 17,
     "metadata": {},
     "output_type": "execute_result"
    },
    {
     "data": {
      "image/png": "[encoded data removed]",
      "text/plain": [
       "<Figure size 432x288 with 2 Axes>"
      ]
     },
     "metadata": {
      "needs_background": "light"
     },
     "output_type": "display_data"
    }
   ],
   "source": [
    "disp = plot_confusion_matrix(rfc, X_test, y_test,\n",
    "                                 display_labels=topics,\n",
    "                                 cmap=plt.cm.Blues,\n",
    "                                 normalize='true')\n",
    "disp.ax_.set_title('Confusion matrix')"
   ]
  },
  {
   "cell_type": "markdown",
   "metadata": {},
   "source": [
    "**Which class is the hardest one to recognize?**"
   ]
  },
  {
   "cell_type": "markdown",
   "metadata": {},
   "source": [
    "Hardest to recoginze is `news_fuel`, it has lowest f1-score"
   ]
  },
  {
   "cell_type": "markdown",
   "metadata": {},
   "source": [
    "### 2.6 Bonus task\n",
    "\n",
    "What if we trained our `doc2vec` model using window size = 5 or 10? Would it improve the classification acccuracy? What about vector dimensionality? Does it mean that increasing it we will achieve better performance in terms of classification?\n",
    "\n",
    "Explore the influence of these parameters on classification performance, visualizing it as a graph (e.g. window size vs f1-score, vector dim vs f1-score)."
   ]
  },
  {
   "cell_type": "code",
   "execution_count": null,
   "metadata": {
    "collapsed": true
   },
   "outputs": [],
   "source": [
    "#TODO bonus task"
   ]
  }
 ],
 "metadata": {
  "kernelspec": {
   "display_name": "Python 3",
   "language": "python",
   "name": "python3"
  },
  "language_info": {
   "codemirror_mode": {
    "name": "ipython",
    "version": 3
   },
   "file_extension": ".py",
   "mimetype": "text/x-python",
   "name": "python",
   "nbconvert_exporter": "python",
   "pygments_lexer": "ipython3",
   "version": "3.7.3"
  }
 },
 "nbformat": 4,
 "nbformat_minor": 2
}
