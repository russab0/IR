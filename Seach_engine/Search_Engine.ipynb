{
  "nbformat": 4,
  "nbformat_minor": 0,
  "metadata": {
    "colab": {
      "name": "2. Search Engine. Ruslan Sabirov",
      "provenance": [],
      "collapsed_sections": []
    },
    "kernelspec": {
      "name": "python3",
      "display_name": "Python 3"
    }
  },
  "cells": [
    {
      "cell_type": "markdown",
      "metadata": {
        "id": "9-NaMyiXzPBi",
        "colab_type": "text"
      },
      "source": [
        "# 1. Text processing\n",
        "\n",
        "We will create the pipline of text preprocessing\n",
        "\n",
        "# 1. 1 Normalization\n",
        "\n",
        "The first step is normalisation.\n",
        "It might include:\n",
        "* converting all letters to lower or upper case\n",
        "* converting numbers into words or removing numbers\n",
        "* removing punctuations, accent marks and other diacritics\n",
        "* removing white spaces\n",
        "* expanding abbreviations\n",
        "\n",
        "In this exercise it would be ok to have a lowercase text without specific characters and digits and without unnecessery space symbols.\n",
        "\n",
        "How neural networks could be implemented for text normalization?"
      ]
    },
    {
      "cell_type": "code",
      "metadata": {
        "id": "9fKTNvYc9dMR",
        "colab_type": "code",
        "colab": {}
      },
      "source": [
        "import re\n",
        "# normilize text\n",
        "def normalize(text):\n",
        "    text = text.lower()\n",
        "    text = re.sub('\\'', '', text)                          # remove apostrophes\n",
        "    text = re.sub('[!@#$.\\-+*—,\\(\\):“”]', ' ', text)       # replace all punctuation signs with spaces\n",
        "    text = re.sub('[0-9]', ' ', text)                      # replace all digits with spaces\n",
        "    result = \" \".join([x.lower() for x in text.split()])   # lower all letters and delete all doubled spaces\n",
        "    return result\n",
        "     "
      ],
      "execution_count": 0,
      "outputs": []
    },
    {
      "cell_type": "code",
      "metadata": {
        "id": "KECQdAEf_hFs",
        "colab_type": "code",
        "outputId": "e3078fee-eda0-4987-bc3e-3bd63afb3e4b",
        "colab": {
          "base_uri": "https://localhost:8080/",
          "height": 51
        }
      },
      "source": [
        "text = \"\"\"Borrowed from Latin per sē (“by itself”), from per (“by, through”) and sē (“itself, himself, herself, themselves”)\"\"\"\n",
        "\n",
        "text = normalize(text)\n",
        "print(text)"
      ],
      "execution_count": 4,
      "outputs": [
        {
          "output_type": "stream",
          "text": [
            "borrowed from latin per sē by itself from per by through and sē itself himself herself themselves\n",
            "borrowed from latin per sē by itself from per by through and sē itself himself herself themselves\n"
          ],
          "name": "stdout"
        }
      ]
    },
    {
      "cell_type": "markdown",
      "metadata": {
        "id": "nnF7atXqCHfu",
        "colab_type": "text"
      },
      "source": [
        "# 1.2 Tokenize\n",
        "Use nltk tokenizer to tokenize the text"
      ]
    },
    {
      "cell_type": "code",
      "metadata": {
        "id": "WN2ISxpCCzc6",
        "colab_type": "code",
        "outputId": "b4fb5861-8df5-4248-d004-6ee2def2d7d9",
        "colab": {
          "base_uri": "https://localhost:8080/",
          "height": 170
        }
      },
      "source": [
        "# tokenize text using nltk lib\n",
        "import nltk\n",
        "\n",
        "\n",
        "nltk.download('punkt')\n",
        "nltk.download('wordnet')\n",
        "nltk.download('averaged_perceptron_tagger')\n",
        "nltk.download('stopwords')\n",
        "\n",
        "def tokenize(text):\n",
        "    result = nltk.word_tokenize(text)\n",
        "    return result"
      ],
      "execution_count": 5,
      "outputs": [
        {
          "output_type": "stream",
          "text": [
            "[nltk_data] Downloading package punkt to /root/nltk_data...\n",
            "[nltk_data]   Unzipping tokenizers/punkt.zip.\n",
            "[nltk_data] Downloading package wordnet to /root/nltk_data...\n",
            "[nltk_data]   Unzipping corpora/wordnet.zip.\n",
            "[nltk_data] Downloading package averaged_perceptron_tagger to\n",
            "[nltk_data]     /root/nltk_data...\n",
            "[nltk_data]   Unzipping taggers/averaged_perceptron_tagger.zip.\n",
            "[nltk_data] Downloading package stopwords to /root/nltk_data...\n",
            "[nltk_data]   Unzipping corpora/stopwords.zip.\n"
          ],
          "name": "stdout"
        }
      ]
    },
    {
      "cell_type": "code",
      "metadata": {
        "id": "eOmr8_unC16S",
        "colab_type": "code",
        "outputId": "c7d3d557-b124-480a-ca50-134b1f91113f",
        "colab": {
          "base_uri": "https://localhost:8080/",
          "height": 54
        }
      },
      "source": [
        "tokens = tokenize(text)\n",
        "print(tokens)"
      ],
      "execution_count": 6,
      "outputs": [
        {
          "output_type": "stream",
          "text": [
            "['borrowed', 'from', 'latin', 'per', 'sē', 'by', 'itself', 'from', 'per', 'by', 'through', 'and', 'sē', 'itself', 'himself', 'herself', 'themselves']\n"
          ],
          "name": "stdout"
        }
      ]
    },
    {
      "cell_type": "markdown",
      "metadata": {
        "id": "2SBPFuytDKmx",
        "colab_type": "text"
      },
      "source": [
        "# 1.3 Lemmatization\n",
        "What is the difference between stemming and lemmatization?\n",
        "\n",
        "**Stemming**: cuts ending of the word (played -> play)\n",
        "\n",
        "**Lemming**: convert the word to its initial form. (wolves -> wolf)\n",
        "\n",
        "[Optional reading](https://towardsdatascience.com/state-of-the-art-multilingual-lemmatization-f303e8ff1a8)\n"
      ]
    },
    {
      "cell_type": "code",
      "metadata": {
        "id": "xf1qr10UDXo4",
        "colab_type": "code",
        "colab": {}
      },
      "source": [
        "def lemmatization(tokens):\n",
        "    lemmatizer = nltk.stem.WordNetLemmatizer() \n",
        "    result = [None] * len(tokens)\n",
        "    for i in range(len(tokens)):\n",
        "        speech_part = nltk.pos_tag([tokens[i]])[0][1]\n",
        "        if speech_part == 'VBN':\n",
        "            result[i] = lemmatizer.lemmatize(tokens[i], pos='v')\n",
        "        else:\n",
        "            result[i] = lemmatizer.lemmatize(tokens[i])\n",
        "    return result"
      ],
      "execution_count": 0,
      "outputs": []
    },
    {
      "cell_type": "code",
      "metadata": {
        "id": "zPz08eJbDbYn",
        "colab_type": "code",
        "outputId": "91985bea-546b-4ffa-8228-bf5b6c51f5c2",
        "colab": {
          "base_uri": "https://localhost:8080/",
          "height": 54
        }
      },
      "source": [
        "lemmed = lemmatization(tokens)\n",
        "print(lemmed)"
      ],
      "execution_count": 8,
      "outputs": [
        {
          "output_type": "stream",
          "text": [
            "['borrow', 'from', 'latin', 'per', 'sē', 'by', 'itself', 'from', 'per', 'by', 'through', 'and', 'sē', 'itself', 'himself', 'herself', 'themselves']\n"
          ],
          "name": "stdout"
        }
      ]
    },
    {
      "cell_type": "markdown",
      "metadata": {
        "id": "QOPWqChkD-Rl",
        "colab_type": "text"
      },
      "source": [
        "# 1.4 Stop words\n",
        "The next step is to remove stop words. Take the list of stop words from nltk."
      ]
    },
    {
      "cell_type": "code",
      "metadata": {
        "id": "Mo7vs0SvEHdi",
        "colab_type": "code",
        "colab": {}
      },
      "source": [
        "stopwords = set(nltk.corpus.stopwords.words('english'))\n",
        "\n",
        "def remove_stop_word(tokens):\n",
        "    result = [word for word in tokens if word not in stopwords]\n",
        "    return result"
      ],
      "execution_count": 0,
      "outputs": []
    },
    {
      "cell_type": "code",
      "metadata": {
        "id": "7ifHBaaIEpRo",
        "colab_type": "code",
        "outputId": "f66cce9b-a8cd-4209-a9c6-71236b7dc646",
        "colab": {
          "base_uri": "https://localhost:8080/",
          "height": 34
        }
      },
      "source": [
        "clean = remove_stop_word(lemmed)\n",
        "print(clean)"
      ],
      "execution_count": 10,
      "outputs": [
        {
          "output_type": "stream",
          "text": [
            "['borrow', 'latin', 'per', 'sē', 'per', 'sē']\n"
          ],
          "name": "stdout"
        }
      ]
    },
    {
      "cell_type": "markdown",
      "metadata": {
        "id": "AK2rqM0UEocc",
        "colab_type": "text"
      },
      "source": [
        "# 1.5 Pipeline\n",
        "Run a complete pipeline inone function."
      ]
    },
    {
      "cell_type": "code",
      "metadata": {
        "id": "jsXF8DD6xWj2",
        "colab_type": "code",
        "colab": {}
      },
      "source": [
        "def preprocess(text):\n",
        "    text = normalize(text)\n",
        "    text = tokenize(text)\n",
        "    text = lemmatization(text)\n",
        "    text = remove_stop_word(text)\n",
        "    return text\n"
      ],
      "execution_count": 0,
      "outputs": []
    },
    {
      "cell_type": "code",
      "metadata": {
        "id": "zsAlLaBuFZIJ",
        "colab_type": "code",
        "colab": {
          "base_uri": "https://localhost:8080/",
          "height": 34
        },
        "outputId": "bb610078-f9f3-41e6-8780-86c41c83bd1e"
      },
      "source": [
        "clean = preprocess(text)\n",
        "print(clean)"
      ],
      "execution_count": 14,
      "outputs": [
        {
          "output_type": "stream",
          "text": [
            "['borrow', 'latin', 'per', 'sē', 'per', 'sē']\n"
          ],
          "name": "stdout"
        }
      ]
    },
    {
      "cell_type": "markdown",
      "metadata": {
        "id": "pqM29ujB6Y9x",
        "colab_type": "text"
      },
      "source": [
        "# 2. Collection\n",
        "\n",
        "Download Reuters data from here:\n",
        "https://archive.ics.uci.edu/ml/machine-learning-databases/reuters21578-mld/reuters21578.tar.gz\n",
        "\n",
        "Read data description here:\n",
        "https://archive.ics.uci.edu/ml/datasets/reuters-21578+text+categorization+collection\n",
        "\n",
        "The function should return a list of strings - raw texts. Remove html tags using bs4 package."
      ]
    },
    {
      "cell_type": "markdown",
      "metadata": {
        "id": "3VxxzUFKTfXg",
        "colab_type": "text"
      },
      "source": [
        "## 2.1 Alternative (0.5 task bonus points)\n",
        "\n",
        "Download songs (the process takes time, 1000 documents might be enough for a sake of exercise) from https://www.lyrics.com/. Implement a text search on it. In this case you have to creare class *Song* with fiels *title*, *artist* *and* text. The collection will contain a list of songs."
      ]
    },
    {
      "cell_type": "code",
      "metadata": {
        "id": "YwO9YHvV6cXZ",
        "colab_type": "code",
        "colab": {}
      },
      "source": [
        "import requests\n",
        "from bs4 import BeautifulSoup\n",
        "from bs4.element import Comment\n",
        "\n",
        "BASE_URL = \"https://www.lyrics.com/lyric/{}/\"\n",
        "SONGS_LIMIT = 100    # number of songs to proceed\n",
        "START_SONG = 3525851 # determines from which song id start searching (chosen randomly)\n",
        "\n",
        "class Song():\n",
        "    title = \"\"\n",
        "    artists = []\n",
        "    text = \"\"\n",
        "\n",
        "    def __init__(self, title, artists, text):\n",
        "        self.title = title\n",
        "        self.artists = artists\n",
        "        self.text = text\n",
        "\n",
        "    def __str__(self):\n",
        "        s = f\"Title: `{self.title}`, Artists: `{self.artists}`, Text: `{self.text[:25]}...`\"\n",
        "        return s\n",
        "\n",
        "\n",
        "def tag_visible(element):\n",
        "    if element.parent.name in ['style', 'script', 'head', 'title', 'meta', '[document]']:\n",
        "        return False\n",
        "    if isinstance(element, Comment):\n",
        "        return False\n",
        "    return True\n",
        "\n",
        "\n",
        "def get_collection():\n",
        "    collection = []\n",
        "    i = START_SONG\n",
        "    while len(collection) < SONGS_LIMIT:\n",
        "        url = BASE_URL.format(i)\n",
        "\n",
        "        r = requests.get(url)\n",
        "        \n",
        "\n",
        "        if r.history: # if redirected\n",
        "            i -= 10\n",
        "            print(\"Skipped\")\n",
        "            continue\n",
        "        \n",
        "        html_page = r.content\n",
        "        soup = BeautifulSoup(html_page)\n",
        "        title = soup.findAll(id=\"lyric-title-text\")[0].contents[0]\n",
        "        artists = soup.findAll(class_=\"lyric-artist\")\n",
        "        artists = artists[0].findNext('a', href=True).contents[0]\n",
        "      \n",
        "        text = \"\"\n",
        "        for t in soup.findAll(id=\"lyric-body-text\"): \n",
        "            if tag_visible(t):  # is tag is visible to user\n",
        "                for s in t:\n",
        "                    if tag_visible(s):\n",
        "                        try:\n",
        "                            text += s\n",
        "                        except:\n",
        "                            text += s.contents[0]\n",
        "        song = Song(title, artists, text)\n",
        "        collection.append(song)\n",
        "        print(song)\n",
        "        i -= 1\n",
        "\n",
        "    return collection"
      ],
      "execution_count": 0,
      "outputs": []
    },
    {
      "cell_type": "code",
      "metadata": {
        "id": "DiunOmRMIT47",
        "colab_type": "code",
        "colab": {
          "base_uri": "https://localhost:8080/",
          "height": 1000
        },
        "outputId": "92034053-d77f-46fe-c978-536ef79dc23c"
      },
      "source": [
        "collection = get_collection()\n",
        "print(len(collection))"
      ],
      "execution_count": 207,
      "outputs": [
        {
          "output_type": "stream",
          "text": [
            "Title: `Georgia on My Mind`, Artists: `Billie Holiday`, Text: `Georgia\r\n",
            "Georgia, the who...`\n",
            "Title: `Loveless Love [Take 1]`, Artists: `Billie Holiday`, Text: `Love is like a hydrant tu...`\n",
            "Title: `What Is This Going to Get Us?`, Artists: `Billie Holiday`, Text: `What is this going to get...`\n",
            "Title: `Night and Day`, Artists: `Billie Holiday`, Text: `Like the beat, beat, beat...`\n",
            "...`\n",
            "Title: `More Than You Know`, Artists: `Billie Holiday`, Text: `Whether you are here or y...`\n",
            "Title: `Let's Dream in the Moonlight`, Artists: `Billie Holiday`, Text: `Let's dream in the moonli...`\n",
            "Title: `Hello My Darling`, Artists: `Billie Holiday`, Text: `I'll forget your tender k...`\n",
            "Title: `You're So Desirable`, Artists: `Billie Holiday`, Text: `You're so desirable\n",
            "I ju...`\n",
            "Title: `Please Keep Me in Your Dreams`, Artists: `Billie Holiday`, Text: `Please keep me in your dr...`\n",
            "Title: `Let's Call a Heart a Heart`, Artists: `Billie Holiday`, Text: `When we're in a friendly ...`\n",
            "Title: `These 'N' That 'N' Those`, Artists: `Billie Holiday`, Text: `These are nights below\n",
            "A...`\n",
            "Title: `Twenty-Four Hours a Day`, Artists: `Billie Holiday`, Text: `Like a little old fashion...`\n",
            "Title: `What a Little Moonlight Can Do`, Artists: `Billie Holiday`, Text: `Ooh, what a little\n",
            "Moonli...`\n",
            "Skipped\n",
            "Title: `Tu Es Partout`, Artists: `Édith Piaf`, Text: `Nous nous aimions bien te...`\n",
            "Title: `Le brun et le blond`, Artists: `Édith Piaf`, Text: `Dans ma p'tite vie y a de...`\n",
            "Title: `Le disque usé`, Artists: `Édith Piaf`, Text: `Impasse de la gouttière\n",
            "...`\n",
            "Title: `Y'A PAS D'PRINTEMPS`, Artists: `Édith Piaf`, Text: `Jamais d'repos\n",
            "Toujours ...`\n",
            "Skipped\n",
            "Skipped\n",
            "Skipped\n",
            "Skipped\n",
            "Skipped\n",
            "Skipped\n",
            "Skipped\n",
            "Skipped\n",
            "Skipped\n",
            "Skipped\n",
            "Skipped\n",
            "Skipped\n",
            "Skipped\n",
            "Skipped\n",
            "Skipped\n",
            "Skipped\n",
            "Skipped\n",
            "Skipped\n",
            "Skipped\n",
            "Skipped\n",
            "Skipped\n",
            "Skipped\n",
            "Skipped\n",
            "Title: `Fortune Teller`, Artists: `Buffalo Tom`, Text: `Reaching back, I'm a fort...`\n",
            "Title: `Counting Backwards`, Artists: `Throwing Muses`, Text: `Counting backwards I coun...`\n",
            "Title: `Ten Little Girls`, Artists: `Curve`, Text: `You think of no one but y...`\n",
            "Skipped\n",
            "Skipped\n",
            "Skipped\n",
            "Skipped\n",
            "Skipped\n",
            "Skipped\n",
            "Skipped\n",
            "Skipped\n",
            "Skipped\n",
            "Skipped\n",
            "Skipped\n",
            "Skipped\n",
            "Skipped\n",
            "Skipped\n",
            "Skipped\n",
            "Skipped\n",
            "Skipped\n",
            "Skipped\n",
            "Skipped\n",
            "Skipped\n",
            "Skipped\n",
            "Skipped\n",
            "Title: `Need Your Love Tonight`, Artists: `Fleetwood Mac`, Text: `Oh baby, I'll buy you a d...`\n",
            "Title: `Doctor Brown`, Artists: `Fleetwood Mac`, Text: `Oh they call me Doctor Br...`\n",
            "Skipped\n",
            "Skipped\n",
            "Title: `Lustmord`, Artists: `Moonspell`, Text: `Whatever haunts me from b...`\n",
            "Skipped\n",
            "Skipped\n",
            "Title: `Always on My Mind`, Artists: `Unlinked Artist`, Text: `Maybe I didn't love you\n",
            "Q...`\n",
            "Skipped\n",
            "Skipped\n",
            "Skipped\n",
            "Skipped\n",
            "Skipped\n",
            "Skipped\n",
            "Skipped\n",
            "Skipped\n",
            "Skipped\n",
            "Skipped\n",
            "Skipped\n",
            "Skipped\n",
            "Skipped\n",
            "Skipped\n",
            "Skipped\n",
            "Skipped\n",
            "Skipped\n",
            "Skipped\n",
            "Skipped\n",
            "Skipped\n",
            "Skipped\n",
            "Skipped\n",
            "Skipped\n",
            "Skipped\n",
            "Skipped\n",
            "Skipped\n",
            "Skipped\n",
            "Skipped\n",
            "Skipped\n",
            "Skipped\n",
            "Skipped\n",
            "Skipped\n",
            "Skipped\n",
            "Skipped\n",
            "Skipped\n",
            "Skipped\n",
            "Skipped\n",
            "Skipped\n",
            "Skipped\n",
            "Skipped\n",
            "Skipped\n",
            "Skipped\n",
            "Skipped\n",
            "Skipped\n",
            "Skipped\n",
            "Skipped\n",
            "Skipped\n",
            "Title: `St. Louis Blues`, Artists: `Blind Connie Williams`, Text: `I hate to see that evenin...`\n",
            "Skipped\n",
            "Skipped\n",
            "Skipped\n",
            "Skipped\n",
            "Skipped\n",
            "Skipped\n",
            "Skipped\n",
            "Skipped\n",
            "Skipped\n",
            "Skipped\n",
            "Skipped\n",
            "Skipped\n",
            "Skipped\n",
            "Skipped\n",
            "Skipped\n",
            "Skipped\n",
            "Skipped\n",
            "Skipped\n",
            "Skipped\n",
            "Skipped\n",
            "Skipped\n",
            "Title: `The Girl Can't Help It`, Artists: `Little Richard`, Text: `She can't help it, the gi...`\n",
            "Title: `Send Me Some Lovin'`, Artists: `Little Richard`, Text: `Send me some lovin'\n",
            "Send...`\n",
            "Title: `Rip It Up`, Artists: `Little Richard`, Text: `Well, it's Saturday night...`\n",
            "Skipped\n",
            "Skipped\n",
            "Skipped\n",
            "Skipped\n",
            "Title: `(Your Love Keeps Lifting Me) Higher and Higher`, Artists: `Jackie Wilson`, Text: `Your love, lifting me hig...`\n",
            "Skipped\n",
            "Title: `Baby Workout`, Artists: `Jackie Wilson`, Text: `Hey, you\n",
            "Come out here on...`\n",
            "Skipped\n",
            "Title: `I'm Comin' on Back to You`, Artists: `Jackie Wilson`, Text: `I was a fool to step asid...`\n",
            "Skipped\n",
            "Title: `You Better Know It`, Artists: `Jackie Wilson`, Text: `Well I want you to  rrrru...`\n",
            "Title: `I'll Be Satisfied`, Artists: `Jackie Wilson`, Text: `Just a kiss, just a smile...`\n",
            "Title: `That's Why (I Love You So)`, Artists: `Jackie Wilson`, Text: `The way you make me feel ...`\n",
            "Title: `Lonely Teardrops`, Artists: `Jackie Wilson`, Text: `(Shoo bee doo bop, bop, b...`\n",
            "Skipped\n",
            "Skipped\n",
            "Skipped\n",
            "Title: `A Night in Tunisia`, Artists: `Dizzy Gillespie`, Text: `[Instrumental]\n",
            "\n",
            "...`\n",
            "Skipped\n",
            "Skipped\n",
            "Skipped\n",
            "Skipped\n",
            "Skipped\n",
            "Skipped\n",
            "Skipped\n",
            "Skipped\n",
            "Skipped\n",
            "Skipped\n",
            "Skipped\n",
            "Skipped\n",
            "Skipped\n",
            "Skipped\n",
            "Title: `No Será Igual`, Artists: `Alejandro Fernández`, Text: `Hoy, no se porque\n",
            "He vue...`\n",
            "Title: `Enter Tus Brazos`, Artists: `Alejandro Fernández`, Text: `Hacia donde ira este amor...`\n",
            "Title: `Siento`, Artists: `Alejandro Fernández`, Text: `No sé si podre confiar en...`\n",
            "Title: `Agua de Mar`, Artists: `Alejandro Fernández`, Text: `Hoy regreso junto a ti\n",
            "P...`\n",
            "Title: `Nunca Me Arrepiento`, Artists: `Alejandro Fernández`, Text: `Te llevo siempre dentro\n",
            "...`\n",
            "Title: `Si Te Vas`, Artists: `Alejandro Fernández`, Text: `Dices que tu amor\n",
            "No es ...`\n",
            "...`\n",
            "Skipped\n",
            "Skipped\n",
            "Skipped\n",
            "Skipped\n",
            "Skipped\n",
            "Title: `Vow [Debut Release]`, Artists: `Garbage`, Text: `I can't use what I can't ...`\n",
            "Title: `A Stroke of Luck`, Artists: `Garbage`, Text: `Hanging by threads of pal...`\n",
            "Title: `Not My Idea`, Artists: `Garbage`, Text: `I bit my tongue and stood...`\n",
            "Title: `As Heaven Is Wide`, Artists: `Garbage`, Text: `Nothing that you say will...`\n",
            "Title: `Only Happy When It Rains`, Artists: `Garbage`, Text: `I'm only happy when it ra...`\n",
            "Title: `Queer`, Artists: `Garbage`, Text: `Hey boy, take a look at m...`\n",
            "Title: `Supervixen`, Artists: `Garbage`, Text: `Come down to my house\n",
            "Sti...`\n",
            "Skipped\n",
            "Skipped\n",
            "Skipped\n",
            "Skipped\n",
            "Skipped\n",
            "Skipped\n",
            "Skipped\n",
            "Skipped\n",
            "Skipped\n",
            "Skipped\n",
            "Skipped\n",
            "Skipped\n",
            "Skipped\n",
            "Skipped\n",
            "Title: `Another Brick in the Wall, Pt. 2`, Artists: `Pink Floyd`, Text: `We don't need no educatio...`\n",
            "Title: `Wish You Were Here`, Artists: `Pink Floyd`, Text: `So, so you think you can ...`\n",
            "Title: `Shine on You Crazy Diamond [Concert Screen Films, 1975 LPCM Stereo]`, Artists: `Pink Floyd`, Text: `Remember when you were yo...`\n",
            "Title: `Sheep`, Artists: `Pink Floyd`, Text: `Hopelessly passing your t...`\n",
            "Title: `Money`, Artists: `Pink Floyd`, Text: `Money, get away\n",
            "Get a go...`\n",
            "Title: `One of These Days`, Artists: `Pink Floyd`, Text: `One of these days, I'm go...`\n",
            "Skipped\n",
            "Skipped\n",
            "Skipped\n",
            "Skipped\n",
            "Skipped\n",
            "Skipped\n",
            "Skipped\n",
            "Skipped\n",
            "Skipped\n",
            "Skipped\n",
            "Skipped\n",
            "Skipped\n",
            "Title: `Blame and Demand`, Artists: `The Damage Manual`, Text: `We have been worthless,\n",
            "...`\n",
            "Title: `Scissor Quickstep`, Artists: `The Damage Manual`, Text: `All aboard, the ride goes...`\n",
            "Title: `Damage Addict`, Artists: `The Damage Manual`, Text: `Winter bruise, bring home...`\n",
            "Title: `Sunset Gun`, Artists: `The Damage Manual`, Text: `From the moment I woke\n",
            "I...`\n",
            "Skipped\n",
            "Title: `For Once in My Life`, Artists: `Andy Williams`, Text: `For once in my life I hav...`\n",
            "Title: `Up, Up and Away`, Artists: `Andy Williams`, Text: `Would you like to ride in...`\n",
            "Title: `Spooky`, Artists: `Andy Williams`, Text: `In the cool of the evenin...`\n",
            "Skipped\n",
            "Skipped\n",
            "Skipped\n",
            "Title: `Cup of Loneliness`, Artists: `George Jones`, Text: `CUP OF LONELINESS\n",
            "(George...`\n",
            "Title: `Wings of a Dove`, Artists: `Ferlin Husky`, Text: `On the wings of a snow-wh...`\n",
            "Skipped\n",
            "Skipped\n",
            "Skipped\n",
            "Skipped\n",
            "Skipped\n",
            "Skipped\n",
            "Skipped\n",
            "Skipped\n",
            "Title: `The Trial`, Artists: `Pink Floyd`, Text: `Good morning, Worm your h...`\n",
            "Title: `Stop`, Artists: `Pink Floyd`, Text: `I want to go home\n",
            "Take o...`\n",
            "Title: `Waiting for the Worms`, Artists: `Pink Floyd`, Text: `Eins, zwei, drei, alle\n",
            "O...`\n",
            "Title: `Run Like Hell`, Artists: `Pink Floyd`, Text: `Run, run, run, run, run, ...`\n",
            "Title: `In the Flesh`, Artists: `Pink Floyd`, Text: `So ya\n",
            "Thought ya\n",
            "Might ...`\n",
            "Title: `The Show Must Go On`, Artists: `Pink Floyd`, Text: `(Ooh, ma, ooh, pa) must t...`\n",
            "Title: `Comfortably Numb`, Artists: `Pink Floyd`, Text: `Hello? Hello? Hello?\n",
            "\n",
            "I...`\n",
            "...`\n",
            "Title: `Vera`, Artists: `Pink Floyd`, Text: `Does anybody here remembe...`\n",
            "Title: `Nobody Home`, Artists: `Pink Floyd`, Text: `I've got a little black b...`\n",
            "Title: `Is There Anybody Out There?`, Artists: `Pink Floyd`, Text: `\"Well, only got an hour o...`\n",
            "Title: `Hey You [2011 Remastered Version]`, Artists: `Pink Floyd`, Text: `Hey you, out there in the...`\n",
            "Title: `Goodbye Cruel World`, Artists: `Pink Floyd`, Text: `Goodbye cruel world,\n",
            "I'm...`\n",
            "Title: `Another Brick in the Wall, Pt. 3`, Artists: `Pink Floyd`, Text: `I don't need no walls aro...`\n",
            "Skipped\n",
            "Title: `In The Flesh?`, Artists: `Pink Floyd`, Text: `So ya\n",
            "Thought ya\n",
            "Might ...`\n",
            "Title: `I'm Too Sexy`, Artists: `Right Said Fred`, Text: `I'm too sexy for my love\n",
            "...`\n",
            "Title: `Tell Me What You Want Me to Do`, Artists: `Tevin Campbell`, Text: `I love you girl\n",
            "You calle...`\n",
            "Title: `Masterpiece`, Artists: `Atlantic Starr`, Text: `A simple touch of your ha...`\n",
            "Title: `Jump`, Artists: `Kris Kross`, Text: `Jump jump\n",
            "You should know...`\n",
            "Title: `How Do You Talk to an Angel`, Artists: `Heights`, Text: `I see her voice\n",
            "Inside m...`\n",
            "Title: `Baby Got Back`, Artists: `Sir Mix-A-Lot`, Text: `Oh, my, God Becky, look a...`\n",
            "Title: `I Can't Dance`, Artists: `Genesis`, Text: `Hot sun beating down\n",
            "Bur...`\n",
            "Title: `Live and Learn`, Artists: `Joe Public`, Text: `You've got to live and le...`\n",
            "Title: `To Be With You`, Artists: `Mr. Big`, Text: `Hold on little girl\n",
            "Show...`\n",
            "Skipped\n",
            "Skipped\n",
            "Skipped\n",
            "Skipped\n",
            "Skipped\n",
            "Skipped\n",
            "Skipped\n",
            "Skipped\n",
            "Skipped\n",
            "Skipped\n",
            "Title: `I Got Rhythm`, Artists: `Louis Armstrong`, Text: `I got rhythm....I got mus...`\n",
            "Skipped\n",
            "Skipped\n",
            "Title: `Taking a Chance on Love`, Artists: `Dorothy Dandridge`, Text: `Here I go again, I hear t...`\n",
            "Skipped\n",
            "Title: `Hong Kong Blues`, Artists: `Hoagy Carmichael`, Text: `It's the story of a very ...`\n",
            "Skipped\n",
            "Skipped\n",
            "Skipped\n",
            "Skipped\n",
            "Skipped\n",
            "Skipped\n",
            "Skipped\n",
            "Skipped\n",
            "Skipped\n",
            "Skipped\n",
            "Skipped\n",
            "Skipped\n",
            "Skipped\n",
            "Skipped\n",
            "Skipped\n",
            "Skipped\n",
            "Skipped\n",
            "Skipped\n",
            "Skipped\n",
            "Skipped\n",
            "Skipped\n",
            "Skipped\n",
            "Title: `Free My Way`, Artists: `Ian Brown`, Text: `Jingle jangle here's the ...`\n",
            "Title: `Love Like a Fountain`, Artists: `Ian Brown`, Text: `I could climb every mount...`\n",
            "Title: `Gettin' High`, Artists: `Ian Brown`, Text: `I could have found you if...`\n",
            "Skipped\n",
            "Skipped\n",
            "Skipped\n",
            "Skipped\n",
            "Skipped\n",
            "Skipped\n",
            "Skipped\n",
            "Skipped\n",
            "Skipped\n",
            "Skipped\n",
            "Skipped\n",
            "Skipped\n",
            "Skipped\n",
            "Skipped\n",
            "Skipped\n",
            "Skipped\n",
            "Skipped\n",
            "Skipped\n",
            "Skipped\n",
            "Skipped\n",
            "Skipped\n",
            "Skipped\n",
            "Title: `Under Cover of the Night`, Artists: `Dave Dudley`, Text: `We stand alone on a quiet...`\n",
            "Title: `Truck Drivin' Son-Of-A-Gun`, Artists: `Dave Dudley`, Text: `I got a cute little gal i...`\n",
            "Skipped\n",
            "Skipped\n",
            "Skipped\n",
            "Skipped\n",
            "Skipped\n",
            "Skipped\n",
            "Skipped\n",
            "Skipped\n",
            "Skipped\n",
            "Skipped\n",
            "Skipped\n",
            "Skipped\n",
            "Title: `Mándame A La Tumba`, Artists: `Ramon Ayala y sus Bravos del Norte`, Text: `Mándame ya a la tumba, qu...`\n",
            "Skipped\n",
            "Skipped\n",
            "Skipped\n",
            "Skipped\n",
            "Skipped\n",
            "Skipped\n",
            "Title: `Be Mine Tonight`, Artists: `The Tubes`, Text: `(SpoonerSteenPrinceWelnic...`\n",
            "100\n"
          ],
          "name": "stdout"
        }
      ]
    },
    {
      "cell_type": "code",
      "metadata": {
        "id": "_Zctycx6TOJS",
        "colab_type": "code",
        "colab": {
          "base_uri": "https://localhost:8080/",
          "height": 51
        },
        "outputId": "fe055064-a715-45af-fec6-a7a947187704"
      },
      "source": [
        "print(collection[0])"
      ],
      "execution_count": 209,
      "outputs": [
        {
          "output_type": "stream",
          "text": [
            "Title: `Georgia on My Mind`, Artists: `Billie Holiday`, Text: `Georgia\r\n",
            "Georgia, the who...`\n"
          ],
          "name": "stdout"
        }
      ]
    },
    {
      "cell_type": "markdown",
      "metadata": {
        "id": "GFAGHwgY4oPm",
        "colab_type": "text"
      },
      "source": [
        "# 3. Inverted index\n",
        "You will work with the boolean search model. Construct a dictionary which maps words to the postings.  "
      ]
    },
    {
      "cell_type": "code",
      "metadata": {
        "id": "e-sYCRN14tEe",
        "colab_type": "code",
        "colab": {}
      },
      "source": [
        "def make_index(collection):\n",
        "    inverted_index = dict() # {term: [list of documents]}\n",
        "    for i, song in enumerate(collection):\n",
        "        text = preprocess(song.text)\n",
        "        for term in text:\n",
        "            if term in inverted_index:\n",
        "                inverted_index[term].add(i)\n",
        "            else:\n",
        "                inverted_index[term] = {i}\n",
        "\n",
        "    return inverted_index"
      ],
      "execution_count": 0,
      "outputs": []
    },
    {
      "cell_type": "code",
      "metadata": {
        "id": "TlXaMNADNgvi",
        "colab_type": "code",
        "colab": {
          "base_uri": "https://localhost:8080/",
          "height": 54
        },
        "outputId": "faa0da6d-fd2f-4159-faf1-43678808d330"
      },
      "source": [
        "index = make_index(collection)\n",
        "print(index['love'])"
      ],
      "execution_count": 210,
      "outputs": [
        {
          "output_type": "stream",
          "text": [
            "{1, 2, 3, 4, 5, 6, 7, 9, 12, 13, 14, 21, 23, 24, 25, 26, 27, 29, 31, 32, 33, 34, 45, 48, 49, 61, 62, 63, 65, 81, 82, 83, 84, 89, 91, 92, 94, 96, 99}\n"
          ],
          "name": "stdout"
        }
      ]
    },
    {
      "cell_type": "markdown",
      "metadata": {
        "id": "GyZsaScC41Mh",
        "colab_type": "text"
      },
      "source": [
        "# 4. Query processing\n",
        "\n",
        "Using given search query, find all relevant documents. In binary model the relevant document is the one which contains all words from the query.\n",
        "\n",
        "Return the list of relevant documents indexes."
      ]
    },
    {
      "cell_type": "code",
      "metadata": {
        "id": "CyIEvWxz6j9n",
        "colab_type": "code",
        "colab": {}
      },
      "source": [
        "def search(query):\n",
        "    query = preprocess(query)\n",
        "    print(query)\n",
        "    for i, term in enumerate(query):\n",
        "        if i == 0:\n",
        "            relevant_documents = index[term]\n",
        "            continue\n",
        "        if term not in index: # if there term hadn't occured\n",
        "            return [] \n",
        "        relevant_documents = relevant_documents.intersection(index[term])\n",
        "    return list(relevant_documents)"
      ],
      "execution_count": 0,
      "outputs": []
    },
    {
      "cell_type": "code",
      "metadata": {
        "id": "Xpr-6e2vKjR5",
        "colab_type": "code",
        "colab": {
          "base_uri": "https://localhost:8080/",
          "height": 51
        },
        "outputId": "a5fe69ca-1b24-4e7c-adcf-a3e7fe8cb994"
      },
      "source": [
        "query = 'love friend' # change for something else if you are searching song lyrics\n",
        "relevant = search(query)  # select how many argumetns to pass to the function\n",
        "print(len(relevant))"
      ],
      "execution_count": 212,
      "outputs": [
        {
          "output_type": "stream",
          "text": [
            "['love', 'friend']\n",
            "3\n"
          ],
          "name": "stdout"
        }
      ]
    },
    {
      "cell_type": "code",
      "metadata": {
        "id": "k53MhzRxWSPJ",
        "colab_type": "code",
        "colab": {
          "base_uri": "https://localhost:8080/",
          "height": 34
        },
        "outputId": "74393dc1-a5e9-4bbf-f2bb-a30902ea1a0c"
      },
      "source": [
        "print(relevant[0])"
      ],
      "execution_count": 213,
      "outputs": [
        {
          "output_type": "stream",
          "text": [
            "29\n"
          ],
          "name": "stdout"
        }
      ]
    },
    {
      "cell_type": "code",
      "metadata": {
        "id": "JjdMIIrm46G7",
        "colab_type": "code",
        "colab": {
          "base_uri": "https://localhost:8080/",
          "height": 34
        },
        "outputId": "ab91f78d-4021-41b3-909a-d938f4d0930f"
      },
      "source": [
        "print(relevant)"
      ],
      "execution_count": 214,
      "outputs": [
        {
          "output_type": "stream",
          "text": [
            "[29, 99, 5]\n"
          ],
          "name": "stdout"
        }
      ]
    }
  ]
}